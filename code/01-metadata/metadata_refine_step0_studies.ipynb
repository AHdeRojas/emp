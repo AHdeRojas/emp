{
 "cells": [
  {
   "cell_type": "markdown",
   "metadata": {},
   "source": [
    "**author**: lukethompson@gmail.com<br>\n",
    "**date**: 12 September 2017<br>\n",
    "**language**: Python 3.5<br>\n",
    "**conda environment**: emp-py3<br>\n",
    "**license**: unlicensed<br>"
   ]
  },
  {
   "cell_type": "markdown",
   "metadata": {},
   "source": [
    "*** ORDER OF SCRIPTS: ***\n",
    "1. metadata_refine_step0_studies.ipynb\n",
    "2. metadata_refine_step1_paper.ipynb\n",
    "3. metadata_refine_step2_qiita.ipynb"
   ]
  },
  {
   "cell_type": "markdown",
   "metadata": {},
   "source": [
    "## study_merge.ipynb\n",
    "\n",
    "This notebook takes two inputs:\n",
    "\n",
    "1. Excel file of EMP Consortium list of studies (emp_consortium_gsheet.xlsx -- downloaded from [Google Sheet](https://docs.google.com/spreadsheets/d/1KI8WucFUn33oGCfvOoLmct1dXOdrE5bOqIcXTdSNLjw/edit#gid=0) and renamed). \n",
    "2. Excel file of study quality info (emp_studies_prepandas.xlsx, including list of studies in EMP paper) \n",
    "\n",
    "It then merges them with just the studies and fields (rows and columns) pertaining to the paper.\n",
    "\n",
    "Output file `emp_studies.csv` is input for `metadata_refine_v1.ipynb`, which generates `emp_studies_no_controls_20170718.tsv` for Table S1 in the paper."
   ]
  },
  {
   "cell_type": "code",
   "execution_count": 1,
   "metadata": {
    "collapsed": true
   },
   "outputs": [],
   "source": [
    "import pandas as pd"
   ]
  },
  {
   "cell_type": "code",
   "execution_count": 2,
   "metadata": {
    "collapsed": true
   },
   "outputs": [],
   "source": [
    "path1 = '/Users/luke.thompson/emp/metadata-refine/emp_consortium_gsheet.xlsx'\n",
    "path2 = '/Users/luke.thompson/emp/metadata-refine/emp_studies_prepandas.xlsx'\n",
    "path_output = '/Users/luke.thompson/emp/metadata-refine/emp_studies.csv'"
   ]
  },
  {
   "cell_type": "code",
   "execution_count": 3,
   "metadata": {
    "collapsed": false
   },
   "outputs": [],
   "source": [
    "df1 = pd.read_excel(path1, converters={\n",
    "        'study_id':int,\n",
    "        'num_samples':int,\n",
    "        'pmid':str\n",
    "        })\n",
    "df2 = pd.read_excel(path2, converters={\n",
    "        'read_length_bp':int,\n",
    "        'study_ok':bool,\n",
    "        'release1_study':bool,\n",
    "        'release2_study':bool,\n",
    "        'emp_paper':bool,\n",
    "        'metadata_minimal':bool})"
   ]
  },
  {
   "cell_type": "code",
   "execution_count": 4,
   "metadata": {
    "collapsed": false,
    "scrolled": false
   },
   "outputs": [],
   "source": [
    "df_merged = pd.merge(df1, df2, left_on='study_id', right_on='study_id')"
   ]
  },
  {
   "cell_type": "code",
   "execution_count": 5,
   "metadata": {
    "collapsed": false,
    "scrolled": true
   },
   "outputs": [],
   "source": [
    "df_merged.sort_values('study_id').reset_index(drop=True).to_csv(path_output)"
   ]
  },
  {
   "cell_type": "code",
   "execution_count": null,
   "metadata": {
    "collapsed": true
   },
   "outputs": [],
   "source": []
  }
 ],
 "metadata": {
  "anaconda-cloud": {},
  "kernelspec": {
   "display_name": "Python [conda env:emp-py3]",
   "language": "python",
   "name": "conda-env-emp-py3-py"
  },
  "language_info": {
   "codemirror_mode": {
    "name": "ipython",
    "version": 3
   },
   "file_extension": ".py",
   "mimetype": "text/x-python",
   "name": "python",
   "nbconvert_exporter": "python",
   "pygments_lexer": "ipython3",
   "version": "3.5.2"
  }
 },
 "nbformat": 4,
 "nbformat_minor": 1
}
