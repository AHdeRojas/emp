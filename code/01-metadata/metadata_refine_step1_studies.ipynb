{
 "cells": [
  {
   "cell_type": "markdown",
   "metadata": {},
   "source": [
    "**author**: lukethompson@gmail.com<br>\n",
    "**date**: 5 October 2017<br>\n",
    "**language**: Python 3.5<br>\n",
    "**license**: BSD3<br>"
   ]
  },
  {
   "cell_type": "markdown",
   "metadata": {},
   "source": [
    "*** ORDER OF SCRIPTS: ***\n",
    "1. metadata_refine_step1_studies.ipynb\n",
    "2. metadata_refine_step2_samples.ipynb\n",
    "3. metadata_refine_step3_qiita.ipynb"
   ]
  },
  {
   "cell_type": "markdown",
   "metadata": {},
   "source": [
    "## metadata_refine_step1_studies.ipynb\n",
    "\n",
    "This notebook takes two inputs:\n",
    "\n",
    "1. Excel file of EMP Consortium list of studies (emp_consortium_gsheet.xlsx -- downloaded from a shared Google Sheet and renamed). \n",
    "2. Excel file of study quality info (emp_studies_prepandas.xlsx, including list of studies in EMP paper) \n",
    "\n",
    "It then merges them with just the studies and fields (rows and columns) pertaining to the paper.\n",
    "\n",
    "Output file `emp_studies.csv` is input for `metadata_refine_step2_samples.ipynb`, which generates `emp_studies_no_controls_YYYYMMDD.tsv` for Extended Data Table 1 in the paper."
   ]
  },
  {
   "cell_type": "code",
   "execution_count": 1,
   "metadata": {
    "collapsed": true
   },
   "outputs": [],
   "source": [
    "import pandas as pd"
   ]
  },
  {
   "cell_type": "code",
   "execution_count": 2,
   "metadata": {
    "collapsed": true
   },
   "outputs": [],
   "source": [
    "path1 = '../../data/metadata-refine/emp_consortium_gsheet.xlsx'\n",
    "path2 = '../../data/metadata-refine/emp_studies_prepandas.xlsx'\n",
    "path_output = '../../data/metadata-refine/emp_studies.csv'"
   ]
  },
  {
   "cell_type": "code",
   "execution_count": 3,
   "metadata": {
    "collapsed": false
   },
   "outputs": [],
   "source": [
    "df1 = pd.read_excel(path1, converters={\n",
    "        'study_id':int,\n",
    "        'num_samples':int,\n",
    "        'pmid':str\n",
    "        })\n",
    "df2 = pd.read_excel(path2, converters={\n",
    "        'read_length_bp':int,\n",
    "        'study_ok':bool,\n",
    "        'release1_study':bool,\n",
    "        'release2_study':bool,\n",
    "        'emp_paper':bool,\n",
    "        'metadata_minimal':bool})"
   ]
  },
  {
   "cell_type": "code",
   "execution_count": 4,
   "metadata": {
    "collapsed": false,
    "scrolled": false
   },
   "outputs": [],
   "source": [
    "df_merged = pd.merge(df1, df2, left_on='study_id', right_on='study_id')"
   ]
  },
  {
   "cell_type": "code",
   "execution_count": 5,
   "metadata": {
    "collapsed": false,
    "scrolled": true
   },
   "outputs": [],
   "source": [
    "df_merged.sort_values('study_id').reset_index(drop=True).to_csv(path_output)"
   ]
  },
  {
   "cell_type": "code",
   "execution_count": null,
   "metadata": {
    "collapsed": true
   },
   "outputs": [],
   "source": []
  }
 ],
 "metadata": {
  "anaconda-cloud": {},
  "kernelspec": {
   "display_name": "Python [conda env:emp-py3]",
   "language": "python",
   "name": "conda-env-emp-py3-py"
  },
  "language_info": {
   "codemirror_mode": {
    "name": "ipython",
    "version": 3
   },
   "file_extension": ".py",
   "mimetype": "text/x-python",
   "name": "python",
   "nbconvert_exporter": "python",
   "pygments_lexer": "ipython3",
   "version": "3.5.2"
  }
 },
 "nbformat": 4,
 "nbformat_minor": 1
}
