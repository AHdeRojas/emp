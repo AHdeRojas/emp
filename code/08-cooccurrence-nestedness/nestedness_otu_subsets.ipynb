{
 "cells": [
  {
   "cell_type": "markdown",
   "metadata": {},
   "source": [
    "**author**: lukethompson@gmail.com<br>\n",
    "**date**: 28 Nov 2016<br>\n",
    "**language**: Python 3.5<br>\n",
    "**conda environment**: emp-py3<br>\n",
    "**license**: unlicensed<br>\n",
    "\n",
    "## nestedness_otu_subsets.ipynb"
   ]
  },
  {
   "cell_type": "markdown",
   "metadata": {},
   "source": [
    "Generate lists of samples that are found in X% or less of samples.\n",
    "\n",
    "Parent BIOM table: emp_deblur_90bp.subset_2k.rare_5000.biom\n",
    "\n",
    "The most prevalent OTUs found in this table are found in only ~1/3 of samples, so there are no ubiquitous 'contaminants'. Still, if we remove the most prevalent OTUs, here are the number of OTUs we are left with, where '% samples' means OTU is found in this percent of samples or less:\n",
    "\n",
    "        % samp  No. OTUs\n",
    "        100     155002\n",
    "        10.0\t154876\n",
    "        5.0     154361\n",
    "        2.5     152689\n",
    "        1.0     147182"
   ]
  },
  {
   "cell_type": "code",
   "execution_count": 1,
   "metadata": {
    "collapsed": true
   },
   "outputs": [],
   "source": [
    "import pandas as pd\n",
    "import numpy as np\n",
    "import biom"
   ]
  },
  {
   "cell_type": "code",
   "execution_count": 2,
   "metadata": {
    "collapsed": true
   },
   "outputs": [],
   "source": [
    "path_otu_summary = '/Users/luke.thompson/emp/analyses-otus/otu_summary.emp_deblur_90bp.subset_2k.rare_5000.tsv'\n",
    "path_output = '/Users/luke.thompson/emp/analyses-nestedness/otu_subset.emp_deblur_90bp.subset_2k.rare_5000'"
   ]
  },
  {
   "cell_type": "code",
   "execution_count": 3,
   "metadata": {
    "collapsed": true
   },
   "outputs": [],
   "source": [
    "df_otus = pd.read_csv(path_otu_summary, sep='\\t', index_col=0)"
   ]
  },
  {
   "cell_type": "code",
   "execution_count": 4,
   "metadata": {
    "collapsed": true
   },
   "outputs": [],
   "source": [
    "tot_samples = 2000"
   ]
  },
  {
   "cell_type": "code",
   "execution_count": 5,
   "metadata": {
    "collapsed": false
   },
   "outputs": [
    {
     "name": "stdout",
     "output_type": "stream",
     "text": [
      "% samp\tNo. OTUs\n",
      "100\t155002\n",
      "10.0\t154876\n",
      "5.0\t154361\n",
      "2.5\t152689\n",
      "1.0\t147182\n"
     ]
    }
   ],
   "source": [
    "# OTUs found in less than or equal to X fraction of samples\n",
    "print('% samp\\tNo. OTUs')\n",
    "for i in [1, 0.1, 0.05, 0.025, 0.01]:\n",
    "    df_sub = df_otus[df_otus['num_samples'] <= tot_samples * i]\n",
    "    print('%s\\t%s' % (i*100, df_sub.shape[0]))\n",
    "    df_sub['sequence'].to_csv('%s.lt_%s_pc_samp.txt' % (path_output, i * 100), index=False)"
   ]
  },
  {
   "cell_type": "code",
   "execution_count": null,
   "metadata": {
    "collapsed": true
   },
   "outputs": [],
   "source": []
  }
 ],
 "metadata": {
  "anaconda-cloud": {},
  "kernelspec": {
   "display_name": "Python [conda env:emp-py3]",
   "language": "python",
   "name": "conda-env-emp-py3-py"
  },
  "language_info": {
   "codemirror_mode": {
    "name": "ipython",
    "version": 3
   },
   "file_extension": ".py",
   "mimetype": "text/x-python",
   "name": "python",
   "nbconvert_exporter": "python",
   "pygments_lexer": "ipython3",
   "version": "3.5.2"
  }
 },
 "nbformat": 4,
 "nbformat_minor": 1
}
