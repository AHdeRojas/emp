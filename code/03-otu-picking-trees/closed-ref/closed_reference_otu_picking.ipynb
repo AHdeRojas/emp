{
 "cells": [
  {
   "cell_type": "markdown",
   "metadata": {},
   "source": [
    "**author**: josenavasmolina@gmail.com<br>\n",
    "**date**: 25 Sep 2017<br>\n",
    "**license**: BSD3<br>\n",
    "\n",
    "## closed_reference_otu_picking.ipynb\n",
    "\n",
    "Commands to execute closed reference OTU picking"
   ]
  },
  {
   "cell_type": "code",
   "execution_count": null,
   "metadata": {
    "collapsed": true
   },
   "outputs": [],
   "source": [
    "from os.path import join\n",
    "\n",
    "adaptor_cleanup_dir = '/path/to/output/cleanup_dir/'\n",
    "closed_ref_output = '/path/to/closed_ref_output/'\n",
    "gg_ref_fna = '/path/to/greengenes/97_otus.fasta'\n",
    "gg_ref_tax = '/path/to/greengenes/97_otu_taxonomy.txt'\n",
    "\n",
    "silva_ref_fna = '/path/to/silva/Silva_123_rep_set97.fna'\n",
    "silva_ref_tax = '/path/to/silva/taxonomy_97_7_levels.txt'"
   ]
  },
  {
   "cell_type": "markdown",
   "metadata": {},
   "source": [
    "### Greengenes 13.8"
   ]
  },
  {
   "cell_type": "code",
   "execution_count": null,
   "metadata": {
    "collapsed": true
   },
   "outputs": [],
   "source": [
    "gg_cr_dp = join(closed_ref_output, '01-closed-ref-greengenes')\n",
    "gg_cr_ps_dp = join(gg_cr_dp, 'per_study')"
   ]
  },
  {
   "cell_type": "code",
   "execution_count": null,
   "metadata": {
    "collapsed": true
   },
   "outputs": [],
   "source": [
    "%%bash\n",
    "\n",
    "mkdir -p $gg_cr_dp\n",
    "mkdir -p $gg_cr_ps_dp\n",
    "\n",
    "# Index the Reference sequence file to reduce 20 min of processing per study\n",
    "indexdb_rna --ref $gg_ref_fna,$gg_cr_ps_dp/97_otus.idx --max_pos 10000\n",
    "\n",
    "echo -e \"pick_otus:otu_picking_method sortmerna\\npick_otus:threads 31\\npick_otus:sortmerna_db $gg_cr_ps_dp/97_otus.idx\" > $gg_cr_ps_dp/cr_params.txt\n",
    "\n",
    "for i in `ls $adaptor_cleanup_dir`\n",
    "do\n",
    "    pick_closed_reference_otus.py -i $adaptor_cleanup_dir \\\n",
    "                                  -o $gg_cr_ps_dp/$i \\\n",
    "                                  -r $gg_ref_fna \\\n",
    "                                  -t $gg_ref_tax \\\n",
    "                                  -p $gg_cr_ps_dp/cr_params.txt\n",
    "done\n",
    "\n",
    "# Merge all the individual tables\n",
    "tables=''\n",
    "for i in `ls $gg_cr_ps_dp/*/otu_table.biom`\n",
    "do\n",
    "    tables=$tables','$i\n",
    "done\n",
    "tables=${tables:1}\n",
    "\n",
    "parallel_merge_otu_tables.py -i $tables -o $gg_cr_dp/merged\n",
    "cp $gg_cr_dp/merged/merged.biom $gg_cr_dp/emp_cr_gg_13_8.biom"
   ]
  },
  {
   "cell_type": "markdown",
   "metadata": {},
   "source": [
    "### Silva123"
   ]
  },
  {
   "cell_type": "code",
   "execution_count": null,
   "metadata": {
    "collapsed": true
   },
   "outputs": [],
   "source": [
    "silva_cr_dp = join(closed_ref_output, '01-closed-ref-silva-16S')\n",
    "silva_cr_ps_dp = join(silva_cr_dp, 'per_study')"
   ]
  },
  {
   "cell_type": "code",
   "execution_count": null,
   "metadata": {
    "collapsed": true
   },
   "outputs": [],
   "source": [
    "%%bash\n",
    "\n",
    "mkdir -p $silva_cr_dp\n",
    "mkdir -p $silva_cr_ps_dp\n",
    "\n",
    "# Index the reference sequence file to reduce 20 min of processing per study\n",
    "indexdb_rna --ref $silva_ref_fna,$silva_cr_ps_dp/97_otus.idx --max_pos 10000\n",
    "\n",
    "echo -e \"pick_otus:otu_picking_method sortmerna\\npick_otus:threads 31\\npick_otus:sortmerna_db $silva_cr_ps_dp/97_otus.idx\" > $silva_cr_ps_dp/cr_params.txt\n",
    "\n",
    "for i in `ls $adaptor_cleanup_dir`\n",
    "do\n",
    "    pick_closed_reference_otus.py -i $adaptor_cleanup_dir \\\n",
    "                                  -o $silva_cr_ps_dp/$i \\\n",
    "                                  -r $silva_ref_fna \\\n",
    "                                  -t $silva_ref_tax \\\n",
    "                                  -p $silva_cr_ps_dp/cr_params.txt\n",
    "done\n",
    "\n",
    "# Merge all the individual tables\n",
    "tables=''\n",
    "for i in `ls $silva_cr_ps_dp/*/otu_table.biom`\n",
    "do\n",
    "    tables=$tables','$i\n",
    "done\n",
    "tables=${tables:1}\n",
    "\n",
    "parallel_merge_otu_tables.py -i $tables -o $silva_cr_dp/merged\n",
    "cp $silva_cr_dp/merged/merged.biom $silva_cr_dp/emp_cr_silva_16S_123.biom"
   ]
  }
 ],
 "metadata": {
  "anaconda-cloud": {},
  "kernelspec": {
   "display_name": "Python [conda env:emp-py2]",
   "language": "python",
   "name": "conda-env-emp-py2-py"
  },
  "language_info": {
   "codemirror_mode": {
    "name": "ipython",
    "version": 2
   },
   "file_extension": ".py",
   "mimetype": "text/x-python",
   "name": "python",
   "nbconvert_exporter": "python",
   "pygments_lexer": "ipython2",
   "version": "2.7.12"
  }
 },
 "nbformat": 4,
 "nbformat_minor": 2
}
