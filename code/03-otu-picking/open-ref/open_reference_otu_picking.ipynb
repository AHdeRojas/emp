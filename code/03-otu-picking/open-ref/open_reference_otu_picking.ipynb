{
 "cells": [
  {
   "cell_type": "markdown",
   "metadata": {},
   "source": [
    "**author**: josenavasmolina@gmail.com<br>\n",
    "**date**: 25 Sep 2017<br>\n",
    "**license**: BSD3<br>\n",
    "\n",
    "## open_reference_otu_picking.ipynb\n",
    "\n",
    "Commands to execute open reference OTU picking"
   ]
  },
  {
   "cell_type": "code",
   "execution_count": 2,
   "metadata": {},
   "outputs": [],
   "source": [
    "from os.path import join\n",
    "\n",
    "adaptor_cleanup_dir = '/path/to/output/cleanup_dir/'\n",
    "open_ref_output = '/path/to/open_ref_output/'\n",
    "gg_ref_fna = '/path/to/greengenes/97_otus.fasta'\n",
    "gg_ref_tax = '/path/to/greengenes/97_otu_taxonomy.txt'\n",
    "arc_mask = '/path/to/arc.arc-bac.rfam12.1183-1s.1508c.mask'\n",
    "bac_mask = '/path/to/bac.arc-bac.rfam12.1183-1s.1582c.mask'"
   ]
  },
  {
   "cell_type": "code",
   "execution_count": null,
   "metadata": {},
   "outputs": [],
   "source": [
    "%%bash\n",
    "seqsfp=''\n",
    "for i in `ls $adaptor_cleanup_dir/*/filtered_seqs.fna`\n",
    "do\n",
    "    seqsfp=$seqsfp','$i\n",
    "done\n",
    "seqsfp=${seqsfp:1}\n",
    "\n",
    "echo \"pick_otus:threads 31\" > $open_ref_output/or_params.txt\n",
    "\n",
    "# This will run Open Reference on Iterative mode\n",
    "pick_open_reference_otus.py -i $seqsfp \\\n",
    "                            -r $gg_ref_fna \\\n",
    "                            -o $open_ref_output/open_ref_otus \\\n",
    "                            -a -O 100 \\\n",
    "                            -p $open_ref_output/or_params.txt \\\n",
    "                            -m sortmerna_sumaclust\n",
    "\n",
    "cp $open_ref_output/open_ref_otus/otu_table_mc2_w_tax.biom \\\n",
    "   $open_ref_output/emp_or_gg_13_8.incl_sample_singletons.biom\n",
    "cp $open_ref_output/open_ref_otus/rep_set.fna \\\n",
    "   $open_ref_output/rep_set.incl_sample_singletons.fna"
   ]
  },
  {
   "cell_type": "markdown",
   "metadata": {},
   "source": [
    "### Generate the tree"
   ]
  },
  {
   "cell_type": "code",
   "execution_count": null,
   "metadata": {},
   "outputs": [],
   "source": [
    "%%bash\n",
    "# Filter OTUs that are present in a single sample\n",
    "filter_otus_from_otu_table.py -i $open_ref_output/emp_or_gg_13_8.incl_sample_singletons.biom \\\n",
    "                              -o $open_ref_output/emp_or_gg_13_8.no_sample_singletons.biom \\\n",
    "                              -s 2\n",
    "\n",
    "# Drop the representative sequences for those OTUs\n",
    "filter_fasta.py -i $open_ref_output/rep_set.incl_sample_singletons.fna \\\n",
    "                -o $open_ref_output/rep_set.no_sample_singletons.fna \\\n",
    "                -b $open_ref_output/emp_or_gg_13_8.no_sample_singletons.biom\n",
    "\n",
    "# Align sequences - this commands are specific for a supercomputer\n",
    "pushd $open_ref_output\n",
    "echo -e 'echo \"cd $PWD; \\n\" | qsub -N ssu-align -l pmem=32gb -l walltime=240:00:00' > presuf.txt\n",
    "ssu-prep $open_ref_output/rep_set.no_sample_singletons.fna parallel_100 100 presuf.txt -f\n",
    "./parallel_100.ssu-align.sh\n",
    "ssu-mask -a parallel_100/parallel_100.archaea.stk \\\n",
    "         -s $arc_mask --key-out arc-bac-mask\n",
    "ssu-mask -a parallel_100/parallel_100.bacteria.stk \\\n",
    "         -s $bac_mask --key-out arc-bac-mask\n",
    "popd $open_ref_output\n",
    "\n",
    "# Run FastTree\n",
    "export OMP_NUM_THREADS=8\n",
    "FastTreeMP -nosupport -fastest -nt \\\n",
    "    $open_ref_output/parallel_100.all.arc-bac-mask.afa \\\n",
    "    > $open_ref_output/rep_set.no_sample_singletons.tre\n"
   ]
  }
 ],
 "metadata": {
  "kernelspec": {
   "display_name": "Python 2",
   "language": "python",
   "name": "python2"
  },
  "language_info": {
   "codemirror_mode": {
    "name": "ipython",
    "version": 2
   },
   "file_extension": ".py",
   "mimetype": "text/x-python",
   "name": "python",
   "nbconvert_exporter": "python",
   "pygments_lexer": "ipython2",
   "version": "2.7.10"
  }
 },
 "nbformat": 4,
 "nbformat_minor": 2
}
