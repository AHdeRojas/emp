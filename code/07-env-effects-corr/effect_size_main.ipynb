{
 "cells": [
  {
   "cell_type": "markdown",
   "metadata": {
    "collapsed": true
   },
   "source": [
    "**author**: lukethompson@gmail.com<br>\n",
    "**date**: 7 Oct 2017<br>\n",
    "**language**: Python 3.5<br>\n",
    "**license**: BSD3<br>\n",
    "\n",
    "## effect_size_main.ipynb"
   ]
  },
  {
   "cell_type": "code",
   "execution_count": 1,
   "metadata": {
    "collapsed": false
   },
   "outputs": [],
   "source": [
    "import pandas as pd\n",
    "import numpy as np\n",
    "import matplotlib.pyplot as plt\n",
    "import seaborn as sns\n",
    "%matplotlib inline"
   ]
  },
  {
   "cell_type": "markdown",
   "metadata": {},
   "source": [
    "### Merging the cleaned mapping file (output of clean_map_emp.py) with alpha diversity for redundancy analysis"
   ]
  },
  {
   "cell_type": "code",
   "execution_count": 46,
   "metadata": {
    "collapsed": false
   },
   "outputs": [
    {
     "name": "stderr",
     "output_type": "stream",
     "text": [
      "/Users/luke.thompson/.local/lib/python3.5/site-packages/IPython/core/interactiveshell.py:2717: DtypeWarning: Columns (46,47,48,49,50,64,65,66,67) have mixed types. Specify dtype option on import or set low_memory=False.\n",
      "  interactivity=interactivity, compiler=compiler, result=result)\n"
     ]
    }
   ],
   "source": [
    "path_map = '../../data/mapping-files/emp_qiime_mapping_qc_filtered.tsv'\n",
    "df_map = pd.read_csv(path_map, sep='\\t', index_col=0)"
   ]
  },
  {
   "cell_type": "markdown",
   "metadata": {},
   "source": [
    "#### for adiv"
   ]
  },
  {
   "cell_type": "code",
   "execution_count": 47,
   "metadata": {
    "collapsed": true
   },
   "outputs": [],
   "source": [
    "# df_qrt is (now also) metadata in deciles for alpha-diversity analysis\n",
    "df_qrt = pd.read_csv('../../data/effect-size/emp_qiime_mapping_qc_filtered.tsv.quartiles.tsv', sep='\\t', index_col=0)\n",
    "#df_dec = pd.read_csv('../../data/effect-size/emp_qiime_mapping_qc_filtered.tsv.deciles.tsv', sep='\\t', index_col=0)"
   ]
  },
  {
   "cell_type": "code",
   "execution_count": 48,
   "metadata": {
    "collapsed": true
   },
   "outputs": [],
   "source": [
    "df_qrt['adiv_observed_otus'] = [df_map['adiv_observed_otus'][i] for i in df_qrt.index]\n",
    "df_qrt.drop('oxygen_mg_per_l', axis=1, inplace=True)"
   ]
  },
  {
   "cell_type": "code",
   "execution_count": 49,
   "metadata": {
    "collapsed": true
   },
   "outputs": [],
   "source": [
    "path_adiv = '../../data/effect-size/emp_qiime_mapping_qc_filtered.quartiles.adiv.tsv'\n",
    "df_qrt.to_csv(path_adiv, sep='\\t')"
   ]
  },
  {
   "cell_type": "markdown",
   "metadata": {},
   "source": [
    "#### for bdiv - unweighted"
   ]
  },
  {
   "cell_type": "code",
   "execution_count": 7,
   "metadata": {
    "collapsed": true
   },
   "outputs": [],
   "source": [
    "# df_qrt is metadata in quartiles for beta-diversity analysis\n",
    "df_qrt = pd.read_csv('../../data/effect-size/emp_qiime_mapping_qc_filtered.tsv.quartiles.tsv', sep='\\t', index_col=0)"
   ]
  },
  {
   "cell_type": "code",
   "execution_count": 8,
   "metadata": {
    "collapsed": true
   },
   "outputs": [],
   "source": [
    "path_bdiv = '../../data/beta-div/emp_90_gg_1k_unweighted_unifrac.txt.pc.first_ten'\n",
    "df_bdiv = pd.read_csv(path_bdiv, sep='\\t', index_col=0, header=None)\n",
    "df_bdiv.columns = ['PC1', 'PC2', 'PC3', 'PC4', 'PC5', 'PC6', 'PC7', 'PC8', 'PC9', 'PC10']"
   ]
  },
  {
   "cell_type": "code",
   "execution_count": 9,
   "metadata": {
    "collapsed": false
   },
   "outputs": [],
   "source": [
    "for col in ['PC1', 'PC2', 'PC3', 'PC4', 'PC5', 'PC6', 'PC7', 'PC8', 'PC9', 'PC10']:\n",
    "    df_qrt[col] = [df_bdiv[col][i] for i in df_qrt.index]"
   ]
  },
  {
   "cell_type": "code",
   "execution_count": 10,
   "metadata": {
    "collapsed": false
   },
   "outputs": [],
   "source": [
    "path_bdiv = '../../data/effect-size/emp_qiime_mapping_qc_filtered.quartiles.bdiv_uw.tsv'\n",
    "df_qrt.to_csv(path_bdiv, sep='\\t')"
   ]
  },
  {
   "cell_type": "markdown",
   "metadata": {},
   "source": [
    "#### for bdiv - weighted"
   ]
  },
  {
   "cell_type": "code",
   "execution_count": 11,
   "metadata": {
    "collapsed": true
   },
   "outputs": [],
   "source": [
    "# df_qrt is metadata in quartiles for beta-diversity analysis\n",
    "df_qrt = pd.read_csv('../../data/effect-size/emp_qiime_mapping_qc_filtered.tsv.quartiles.tsv' , sep='\\t', index_col=0)"
   ]
  },
  {
   "cell_type": "code",
   "execution_count": 12,
   "metadata": {
    "collapsed": false
   },
   "outputs": [],
   "source": [
    "path_bdiv = '../../data/beta-div/emp_90_gg_1k_weighted_unifrac.txt.pc.first_ten'\n",
    "df_bdiv = pd.read_csv(path_bdiv, sep='\\t', index_col=0, header=None)\n",
    "df_bdiv.columns = ['PC1', 'PC2', 'PC3', 'PC4', 'PC5', 'PC6', 'PC7', 'PC8', 'PC9', 'PC10']"
   ]
  },
  {
   "cell_type": "code",
   "execution_count": 13,
   "metadata": {
    "collapsed": false
   },
   "outputs": [],
   "source": [
    "# df_qrt is metadata in quartiles for beta-diversity analysis\n",
    "for col in ['PC1', 'PC2', 'PC3', 'PC4', 'PC5', 'PC6', 'PC7', 'PC8', 'PC9', 'PC10']:\n",
    "    df_qrt[col] = [df_bdiv[col][i] for i in df_qrt.index]"
   ]
  },
  {
   "cell_type": "code",
   "execution_count": 14,
   "metadata": {
    "collapsed": false
   },
   "outputs": [],
   "source": [
    "path_bdiv = '../../data/effect-size/emp_qiime_mapping_qc_filtered.quartiles.bdiv_w.tsv'\n",
    "df_qrt.to_csv(path_bdiv, sep='\\t')"
   ]
  },
  {
   "cell_type": "markdown",
   "metadata": {},
   "source": [
    "### Exploring the cleaned mapping file (output of clean_map_emp.py)"
   ]
  },
  {
   "cell_type": "code",
   "execution_count": 15,
   "metadata": {
    "collapsed": false,
    "scrolled": false
   },
   "outputs": [
    {
     "data": {
      "text/plain": [
       "1883.0    2438\n",
       "550.0     1957\n",
       "894.0     1922\n",
       "2192.0    1599\n",
       "1288.0    1483\n",
       "2229.0    1292\n",
       "945.0     1103\n",
       "755.0      893\n",
       "990.0      698\n",
       "1521.0     688\n",
       "1642.0     625\n",
       "1774.0     599\n",
       "1632.0     527\n",
       "1736.0     502\n",
       "1694.0     450\n",
       "2382.0     400\n",
       "925.0      361\n",
       "1622.0     348\n",
       "933.0      323\n",
       "1453.0     298\n",
       "1064.0     285\n",
       "678.0      271\n",
       "1235.0     258\n",
       "1721.0     255\n",
       "864.0      229\n",
       "1024.0     227\n",
       "1748.0     221\n",
       "940.0      219\n",
       "1747.0     184\n",
       "1621.0     180\n",
       "722.0      175\n",
       "2182.0     164\n",
       "1696.0     157\n",
       "1030.0     147\n",
       "1674.0     146\n",
       "1240.0     141\n",
       "1665.0     135\n",
       "1579.0     126\n",
       "1773.0     121\n",
       "1035.0     113\n",
       "1197.0     103\n",
       "2338.0     103\n",
       "1526.0      95\n",
       "1056.0      92\n",
       "1242.0      91\n",
       "963.0       91\n",
       "638.0       89\n",
       "1034.0      89\n",
       "1481.0      88\n",
       "723.0       85\n",
       "804.0       78\n",
       "1692.0      75\n",
       "Name: study_id, dtype: int64"
      ]
     },
     "execution_count": 15,
     "metadata": {},
     "output_type": "execute_result"
    }
   ],
   "source": [
    "df_dec.study_id.value_counts()"
   ]
  },
  {
   "cell_type": "code",
   "execution_count": 16,
   "metadata": {
    "collapsed": false,
    "scrolled": true
   },
   "outputs": [
    {
     "data": {
      "text/plain": [
       "Not applicable            12941\n",
       "Homo sapiens               3612\n",
       "Ecklonia radiata            936\n",
       "Rusa unicolor               906\n",
       "Phyllospora comosa          656\n",
       "Oryza sativa                615\n",
       "Syncerus caffer caffer      502\n",
       "Macropus sp.                460\n",
       "Pemphiginae                 450\n",
       "Pygathrix nemaeus           298\n",
       "Apis mellifera              285\n",
       "Oryctolagus cuniculus       259\n",
       "Bos taurus                  180\n",
       "Vombatidae                  169\n",
       "Ateles geoffroyi            160\n",
       "Varanus komodoensis         155\n",
       "Catostomus                  147\n",
       "Canis lupus familiaris      104\n",
       "Iguana iguana                91\n",
       "Pica pica                    87\n",
       "Carollia perspicillata       76\n",
       "Name: host_scientific_name, dtype: int64"
      ]
     },
     "execution_count": 16,
     "metadata": {},
     "output_type": "execute_result"
    }
   ],
   "source": [
    "df_dec.host_scientific_name.value_counts()"
   ]
  },
  {
   "cell_type": "code",
   "execution_count": 17,
   "metadata": {
    "collapsed": false
   },
   "outputs": [
    {
     "data": {
      "text/plain": [
       "4.0    3581\n",
       "7.0    2792\n",
       "2.0    2593\n",
       "0.0    2557\n",
       "6.0    2503\n",
       "9.0    2472\n",
       "1.0    2429\n",
       "3.0    2422\n",
       "8.0    2189\n",
       "5.0    1363\n",
       "Name: latitude_deg, dtype: int64"
      ]
     },
     "execution_count": 17,
     "metadata": {},
     "output_type": "execute_result"
    }
   ],
   "source": [
    "df_dec.latitude_deg.value_counts()"
   ]
  },
  {
   "cell_type": "code",
   "execution_count": 18,
   "metadata": {
    "collapsed": false,
    "scrolled": true
   },
   "outputs": [
    {
     "data": {
      "text/plain": [
       "1.0    4396\n",
       "8.0    2867\n",
       "5.0    2679\n",
       "3.0    2644\n",
       "0.0    2495\n",
       "7.0    2494\n",
       "6.0    2315\n",
       "9.0    2095\n",
       "2.0    1828\n",
       "4.0    1088\n",
       "Name: longitude_deg, dtype: int64"
      ]
     },
     "execution_count": 18,
     "metadata": {},
     "output_type": "execute_result"
    }
   ],
   "source": [
    "df_dec.longitude_deg.value_counts()"
   ]
  },
  {
   "cell_type": "code",
   "execution_count": 19,
   "metadata": {
    "collapsed": false,
    "scrolled": false
   },
   "outputs": [
    {
     "data": {
      "text/plain": [
       "dense settlement biome         7300\n",
       "Not applicable                 5323\n",
       "freshwater lake biome          4372\n",
       "freshwater river biome         2247\n",
       "cropland biome                 1843\n",
       "rangeland biome                 895\n",
       "subtropical shrubland biome     527\n",
       "village biome                   502\n",
       "subtropical woodland biome      450\n",
       "broadleaf forest biome          379\n",
       "marine benthic biome            314\n",
       "montane grassland biome         229\n",
       "polar desert biome              147\n",
       "tropical shrubland biome        126\n",
       "marine pelagic biome             85\n",
       "mixed forest biome               78\n",
       "Name: envo_biome_3, dtype: int64"
      ]
     },
     "execution_count": 19,
     "metadata": {},
     "output_type": "execute_result"
    }
   ],
   "source": [
    "df_dec.envo_biome_3.value_counts()"
   ]
  },
  {
   "cell_type": "code",
   "execution_count": 20,
   "metadata": {
    "collapsed": false,
    "scrolled": true
   },
   "outputs": [
    {
     "data": {
      "text/plain": [
       "Water (non-saline)       5080\n",
       "Soil (non-saline)        4376\n",
       "Animal distal gut        4196\n",
       "Animal surface           3454\n",
       "Plant surface            1615\n",
       "Surface (non-saline)     1289\n",
       "Animal secretion         1285\n",
       "Water (saline)            685\n",
       "Plant rhizosphere         632\n",
       "Sediment (saline)         629\n",
       "Sediment (non-saline)     553\n",
       "Animal proximal gut       384\n",
       "Animal corpus             338\n",
       "Plant corpus              177\n",
       "Surface (saline)          117\n",
       "Aerosol (non-saline)       87\n",
       "Name: empo_3, dtype: int64"
      ]
     },
     "execution_count": 20,
     "metadata": {},
     "output_type": "execute_result"
    }
   ],
   "source": [
    "df_dec.empo_3.value_counts()"
   ]
  },
  {
   "cell_type": "code",
   "execution_count": 21,
   "metadata": {
    "collapsed": false,
    "scrolled": false
   },
   "outputs": [
    {
     "data": {
      "text/plain": [
       "7.0    775\n",
       "3.0    759\n",
       "0.0    725\n",
       "1.0    722\n",
       "2.0    719\n",
       "5.0    716\n",
       "9.0    716\n",
       "6.0    716\n",
       "4.0    677\n",
       "8.0    660\n",
       "Name: temperature_deg_c, dtype: int64"
      ]
     },
     "execution_count": 21,
     "metadata": {},
     "output_type": "execute_result"
    }
   ],
   "source": [
    "df_dec.temperature_deg_c.value_counts()"
   ]
  },
  {
   "cell_type": "code",
   "execution_count": 22,
   "metadata": {
    "collapsed": false
   },
   "outputs": [
    {
     "data": {
      "text/plain": [
       "2.0    495\n",
       "0.0    444\n",
       "4.0    437\n",
       "6.0    420\n",
       "8.0    416\n",
       "9.0    411\n",
       "7.0    410\n",
       "3.0    400\n",
       "1.0    398\n",
       "5.0    316\n",
       "Name: ph, dtype: int64"
      ]
     },
     "execution_count": 22,
     "metadata": {},
     "output_type": "execute_result"
    }
   ],
   "source": [
    "df_dec.ph.value_counts()"
   ]
  },
  {
   "cell_type": "code",
   "execution_count": 23,
   "metadata": {
    "collapsed": false,
    "scrolled": false
   },
   "outputs": [
    {
     "data": {
      "text/plain": [
       "4.0    83\n",
       "3.0    69\n",
       "8.0    69\n",
       "7.0    65\n",
       "1.0    65\n",
       "0.0    63\n",
       "2.0    61\n",
       "9.0    54\n",
       "6.0    54\n",
       "Name: salinity_psu, dtype: int64"
      ]
     },
     "execution_count": 23,
     "metadata": {},
     "output_type": "execute_result"
    }
   ],
   "source": [
    "df_dec.salinity_psu.value_counts()"
   ]
  },
  {
   "cell_type": "code",
   "execution_count": 25,
   "metadata": {
    "collapsed": false,
    "scrolled": true
   },
   "outputs": [],
   "source": [
    "#df_dec.oxygen_mg_per_l.value_counts()"
   ]
  },
  {
   "cell_type": "code",
   "execution_count": 26,
   "metadata": {
    "collapsed": false,
    "scrolled": true
   },
   "outputs": [
    {
     "data": {
      "text/plain": [
       "5.0    240\n",
       "0.0    223\n",
       "7.0    198\n",
       "4.0    195\n",
       "3.0    193\n",
       "9.0    191\n",
       "8.0    190\n",
       "2.0    188\n",
       "1.0    170\n",
       "6.0    145\n",
       "Name: nitrate_umol_per_l, dtype: int64"
      ]
     },
     "execution_count": 26,
     "metadata": {},
     "output_type": "execute_result"
    }
   ],
   "source": [
    "df_dec.nitrate_umol_per_l.value_counts()"
   ]
  },
  {
   "cell_type": "markdown",
   "metadata": {
    "collapsed": true
   },
   "source": [
    "### Plotting effect size results"
   ]
  },
  {
   "cell_type": "code",
   "execution_count": 2,
   "metadata": {
    "collapsed": false
   },
   "outputs": [],
   "source": [
    "sns.set_style('ticks', {'ytick.color': 'white'})\n",
    "sns.set_context('poster', font_scale=1.5)\n",
    "mycolor = sns.xkcd_rgb['light blue']"
   ]
  },
  {
   "cell_type": "code",
   "execution_count": 3,
   "metadata": {
    "collapsed": true
   },
   "outputs": [],
   "source": [
    "cols = ['study_id', 'host_scientific_name',\n",
    "    'latitude_deg', 'longitude_deg',\n",
    "    'envo_biome_3', 'empo_3', \n",
    "    'temperature_deg_c', 'ph', 'salinity_psu',\n",
    "    'oxygen_mg_per_l', 'nitrate_umol_per_l']"
   ]
  },
  {
   "cell_type": "markdown",
   "metadata": {},
   "source": [
    "#### Alpha-div"
   ]
  },
  {
   "cell_type": "code",
   "execution_count": 4,
   "metadata": {
    "collapsed": true
   },
   "outputs": [],
   "source": [
    "results_q = pd.read_csv('../../data/effect-size/' +\n",
    "                      'mannwhitneyu.alpha_map.adiv_observed_otus.quartiles.tsv', \n",
    "                      sep='\\t', index_col=0)"
   ]
  },
  {
   "cell_type": "code",
   "execution_count": 5,
   "metadata": {
    "collapsed": true
   },
   "outputs": [],
   "source": [
    "results_d = pd.read_csv('../../data/effect-size/' +\n",
    "                      'mannwhitneyu.alpha_map.adiv_observed_otus.deciles.tsv', \n",
    "                      sep='\\t', index_col=0)"
   ]
  },
  {
   "cell_type": "code",
   "execution_count": 7,
   "metadata": {
    "collapsed": false
   },
   "outputs": [],
   "source": [
    "myresults_q = results_q.loc[results_q['column_name'].isin(cols)]\n",
    "myresults_q = myresults_q.sort_values('effect_size', ascending=False)"
   ]
  },
  {
   "cell_type": "code",
   "execution_count": 8,
   "metadata": {
    "collapsed": false,
    "scrolled": false
   },
   "outputs": [],
   "source": [
    "myresults_d = results_d.loc[results_d['column_name'].isin(cols)]\n",
    "myresults_d = myresults_d.sort_values('effect_size', ascending=False)"
   ]
  },
  {
   "cell_type": "code",
   "execution_count": 9,
   "metadata": {
    "collapsed": false
   },
   "outputs": [],
   "source": [
    "dict_colors = {'study_id':sns.color_palette('Paired', 12)[1], 'empo_3':sns.color_palette('Paired', 12)[3], \n",
    "               'envo_biome_3':sns.color_palette('Paired', 12)[5],'latitude_deg':sns.color_palette('Paired', 12)[7], \n",
    "               'longitude_deg':sns.color_palette('Paired', 12)[9], 'host_scientific_name':sns.color_palette('Paired', 12)[0], \n",
    "               'salinity_psu':sns.color_palette('Paired', 12)[2], 'temperature_deg_c':sns.color_palette('Paired', 12)[4],\n",
    "               'ph':sns.color_palette('Paired', 12)[6], 'nitrate_umol_per_l':sns.color_palette('Paired', 12)[8], \n",
    "               'oxygen_mg_per_l':sns.color_palette('Paired', 12)[10]}"
   ]
  },
  {
   "cell_type": "code",
   "execution_count": 11,
   "metadata": {
    "collapsed": false,
    "scrolled": false
   },
   "outputs": [
    {
     "data": {
      "image/png": "[encoded data removed]",
      "text/plain": [
       "<matplotlib.figure.Figure at 0x10dfff0b8>"
      ]
     },
     "metadata": {},
     "output_type": "display_data"
    }
   ],
   "source": [
    "sns.barplot(x='effect_size', y='column_name', data=myresults_d, palette=dict_colors)\n",
    "plt.xlabel('Mean pairwise effect size')\n",
    "plt.ylabel('')\n",
    "plt.tight_layout()\n",
    "plt.savefig('adiv_effect_size_deciles.pdf')"
   ]
  },
  {
   "cell_type": "code",
   "execution_count": 12,
   "metadata": {
    "collapsed": false,
    "scrolled": false
   },
   "outputs": [
    {
     "data": {
      "image/png": "[encoded data removed]",
      "text/plain": [
       "<matplotlib.figure.Figure at 0x110bff518>"
      ]
     },
     "metadata": {},
     "output_type": "display_data"
    }
   ],
   "source": [
    "sns.barplot(x='effect_size', y='column_name', data=myresults_q, palette=dict_colors)\n",
    "plt.xlabel('Mean pairwise effect size')\n",
    "plt.ylabel('Factor')\n",
    "plt.tight_layout()\n",
    "plt.savefig('adiv_effect_size_quartiles.pdf')"
   ]
  },
  {
   "cell_type": "markdown",
   "metadata": {},
   "source": [
    "#### Beta-div"
   ]
  },
  {
   "cell_type": "code",
   "execution_count": 13,
   "metadata": {
    "collapsed": true
   },
   "outputs": [],
   "source": [
    "results_w = pd.read_csv('../../data/effect-size/' +\n",
    "                      'emp_90_gg_1k_weighted_unifrac.emp_qiime_mapping_qc_filtered.quartiles.tsv', \n",
    "                      sep='\\t', index_col=0)"
   ]
  },
  {
   "cell_type": "code",
   "execution_count": 14,
   "metadata": {
    "collapsed": false
   },
   "outputs": [],
   "source": [
    "myresults_w = results_w.loc[results_w['column_name'].isin(cols)]\n",
    "myresults_w = myresults_w.sort_values('effect_size', ascending=False)"
   ]
  },
  {
   "cell_type": "code",
   "execution_count": 15,
   "metadata": {
    "collapsed": false
   },
   "outputs": [
    {
     "data": {
      "image/png": "[encoded data removed]",
      "text/plain": [
       "<matplotlib.figure.Figure at 0x10dd0b5c0>"
      ]
     },
     "metadata": {},
     "output_type": "display_data"
    }
   ],
   "source": [
    "sns.barplot(x='effect_size', y='column_name', data=myresults_w, palette=dict_colors)\n",
    "plt.xlabel('Mean pairwise effect size')\n",
    "plt.ylabel('Factor')\n",
    "plt.tight_layout()\n",
    "plt.savefig('bdiv_weighted_effect_size_quartiles.pdf')"
   ]
  },
  {
   "cell_type": "code",
   "execution_count": 16,
   "metadata": {
    "collapsed": true
   },
   "outputs": [],
   "source": [
    "results_uw = pd.read_csv('../../data/effect-size/' +\n",
    "                      'emp_90_gg_1k_unweighted_unifrac.emp_qiime_mapping_qc_filtered.quartiles.tsv', \n",
    "                      sep='\\t', index_col=0)"
   ]
  },
  {
   "cell_type": "code",
   "execution_count": 17,
   "metadata": {
    "collapsed": false
   },
   "outputs": [],
   "source": [
    "myresults_uw = results_uw.loc[results_uw['column_name'].isin(cols)]\n",
    "myresults_uw = myresults_uw.sort_values('effect_size', ascending=False)"
   ]
  },
  {
   "cell_type": "code",
   "execution_count": 18,
   "metadata": {
    "collapsed": false
   },
   "outputs": [
    {
     "data": {
      "image/png": "[encoded data removed]",
      "text/plain": [
       "<matplotlib.figure.Figure at 0x110f79e48>"
      ]
     },
     "metadata": {},
     "output_type": "display_data"
    }
   ],
   "source": [
    "sns.barplot(x='effect_size', y='column_name', data=myresults_uw, palette=dict_colors)\n",
    "plt.xlabel('Mean pairwise effect size')\n",
    "plt.ylabel('Factor')\n",
    "plt.tight_layout()\n",
    "plt.savefig('bdiv_unweighted_effect_size_quartiles.pdf')"
   ]
  },
  {
   "cell_type": "markdown",
   "metadata": {
    "collapsed": true
   },
   "source": [
    "### Plotting RDA results"
   ]
  },
  {
   "cell_type": "code",
   "execution_count": 17,
   "metadata": {
    "collapsed": true
   },
   "outputs": [],
   "source": [
    "sns.set_style('ticks', {'ytick.color': 'black'})"
   ]
  },
  {
   "cell_type": "code",
   "execution_count": 18,
   "metadata": {
    "collapsed": true
   },
   "outputs": [],
   "source": [
    "path_rda = '../../data/effect-size/rda_values.xlsx'"
   ]
  },
  {
   "cell_type": "code",
   "execution_count": 19,
   "metadata": {
    "collapsed": true
   },
   "outputs": [],
   "source": [
    "df_rda = pd.read_excel(path_rda)"
   ]
  },
  {
   "cell_type": "code",
   "execution_count": 20,
   "metadata": {
    "collapsed": false
   },
   "outputs": [],
   "source": [
    "df_rda.fillna(0, inplace=True)"
   ]
  },
  {
   "cell_type": "code",
   "execution_count": 21,
   "metadata": {
    "collapsed": false
   },
   "outputs": [
    {
     "data": {
      "text/html": [
       "<div>\n",
       "<table border=\"1\" class=\"dataframe\">\n",
       "  <thead>\n",
       "    <tr style=\"text-align: right;\">\n",
       "      <th></th>\n",
       "      <th>study_id</th>\n",
       "      <th>empo_3</th>\n",
       "      <th>envo_biome_3</th>\n",
       "      <th>longitude_deg</th>\n",
       "      <th>latitude_deg</th>\n",
       "      <th>response</th>\n",
       "      <th>incl_study_id</th>\n",
       "    </tr>\n",
       "  </thead>\n",
       "  <tbody>\n",
       "    <tr>\n",
       "      <th>alpha_with_study_id</th>\n",
       "      <td>0.6957</td>\n",
       "      <td>0.0616</td>\n",
       "      <td>0.0136</td>\n",
       "      <td>0.0011</td>\n",
       "      <td>0.0000</td>\n",
       "      <td>alpha: observed seqs</td>\n",
       "      <td>yes</td>\n",
       "    </tr>\n",
       "    <tr>\n",
       "      <th>alpha_without_study_id</th>\n",
       "      <td>0.0000</td>\n",
       "      <td>0.5842</td>\n",
       "      <td>0.0658</td>\n",
       "      <td>0.0175</td>\n",
       "      <td>0.0159</td>\n",
       "      <td>alpha: observed seqs</td>\n",
       "      <td>no</td>\n",
       "    </tr>\n",
       "    <tr>\n",
       "      <th>beta_uw_with_study_id</th>\n",
       "      <td>0.6407</td>\n",
       "      <td>0.0920</td>\n",
       "      <td>0.0030</td>\n",
       "      <td>0.0001</td>\n",
       "      <td>0.0007</td>\n",
       "      <td>beta: unweighted unifrac</td>\n",
       "      <td>yes</td>\n",
       "    </tr>\n",
       "    <tr>\n",
       "      <th>beta_uw_without_study_id</th>\n",
       "      <td>0.0000</td>\n",
       "      <td>0.5072</td>\n",
       "      <td>0.1075</td>\n",
       "      <td>0.0185</td>\n",
       "      <td>0.0335</td>\n",
       "      <td>beta: unweighted unifrac</td>\n",
       "      <td>no</td>\n",
       "    </tr>\n",
       "    <tr>\n",
       "      <th>beta_w_with_study_id</th>\n",
       "      <td>0.5412</td>\n",
       "      <td>0.1041</td>\n",
       "      <td>0.0017</td>\n",
       "      <td>0.0000</td>\n",
       "      <td>0.0024</td>\n",
       "      <td>beta: weighted unifrac</td>\n",
       "      <td>yes</td>\n",
       "    </tr>\n",
       "    <tr>\n",
       "      <th>beta_w_without_study_id</th>\n",
       "      <td>0.0000</td>\n",
       "      <td>0.4712</td>\n",
       "      <td>0.0816</td>\n",
       "      <td>0.0201</td>\n",
       "      <td>0.0000</td>\n",
       "      <td>beta: weighted unifrac</td>\n",
       "      <td>no</td>\n",
       "    </tr>\n",
       "  </tbody>\n",
       "</table>\n",
       "</div>"
      ],
      "text/plain": [
       "                          study_id  empo_3  envo_biome_3  longitude_deg  \\\n",
       "alpha_with_study_id         0.6957  0.0616        0.0136         0.0011   \n",
       "alpha_without_study_id      0.0000  0.5842        0.0658         0.0175   \n",
       "beta_uw_with_study_id       0.6407  0.0920        0.0030         0.0001   \n",
       "beta_uw_without_study_id    0.0000  0.5072        0.1075         0.0185   \n",
       "beta_w_with_study_id        0.5412  0.1041        0.0017         0.0000   \n",
       "beta_w_without_study_id     0.0000  0.4712        0.0816         0.0201   \n",
       "\n",
       "                          latitude_deg                  response incl_study_id  \n",
       "alpha_with_study_id             0.0000      alpha: observed seqs           yes  \n",
       "alpha_without_study_id          0.0159      alpha: observed seqs            no  \n",
       "beta_uw_with_study_id           0.0007  beta: unweighted unifrac           yes  \n",
       "beta_uw_without_study_id        0.0335  beta: unweighted unifrac            no  \n",
       "beta_w_with_study_id            0.0024    beta: weighted unifrac           yes  \n",
       "beta_w_without_study_id         0.0000    beta: weighted unifrac            no  "
      ]
     },
     "execution_count": 21,
     "metadata": {},
     "output_type": "execute_result"
    }
   ],
   "source": [
    "df_rda"
   ]
  },
  {
   "cell_type": "code",
   "execution_count": 22,
   "metadata": {
    "collapsed": true
   },
   "outputs": [],
   "source": [
    "mycolors = [\"dark grey\", \"windows blue\", \"amber\", \"faded green\", \"dusty purple\"]"
   ]
  },
  {
   "cell_type": "code",
   "execution_count": 23,
   "metadata": {
    "collapsed": false
   },
   "outputs": [
    {
     "data": {
      "image/png": "[encoded data removed]",
      "text/plain": [
       "<matplotlib.figure.Figure at 0x111c367f0>"
      ]
     },
     "metadata": {},
     "output_type": "display_data"
    }
   ],
   "source": [
    "plt.figure(figsize=(10,10))\n",
    "\n",
    "plt.bar(np.arange(6), df_rda.study_id, color=dict_colors['study_id'])\n",
    "bottom = df_rda.study_id\n",
    "plt.bar(np.arange(6), df_rda.empo_3, bottom=bottom, color=dict_colors['empo_3'])\n",
    "bottom = bottom + df_rda.empo_3\n",
    "plt.bar(np.arange(6), df_rda.envo_biome_3, bottom=bottom, color=dict_colors['envo_biome_3'])\n",
    "bottom = bottom + df_rda.envo_biome_3\n",
    "plt.bar(np.arange(6), df_rda.latitude_deg, bottom=bottom, color=dict_colors['latitude_deg'])\n",
    "bottom = bottom + df_rda.latitude_deg\n",
    "plt.bar(np.arange(6), df_rda.longitude_deg, bottom=bottom, color=dict_colors['longitude_deg'])\n",
    "\n",
    "plt.xticks(np.arange(6), ['alpha w/ study_id', 'alpha w/o study_id', 'unweighted w/ study_id', 'unweighted w/o study_id', \n",
    "                          'weighted w/ study_id', 'weighted w/o study_id'], rotation=270)\n",
    "\n",
    "plt.tight_layout()\n",
    "\n",
    "plt.savefig('rda.pdf')"
   ]
  },
  {
   "cell_type": "code",
   "execution_count": null,
   "metadata": {
    "collapsed": true
   },
   "outputs": [],
   "source": []
  }
 ],
 "metadata": {
  "anaconda-cloud": {},
  "kernelspec": {
   "display_name": "Python [conda env:emp-py3]",
   "language": "python",
   "name": "conda-env-emp-py3-py"
  },
  "language_info": {
   "codemirror_mode": {
    "name": "ipython",
    "version": 3
   },
   "file_extension": ".py",
   "mimetype": "text/x-python",
   "name": "python",
   "nbconvert_exporter": "python",
   "pygments_lexer": "ipython3",
   "version": "3.5.2"
  }
 },
 "nbformat": 4,
 "nbformat_minor": 1
}
