{
 "cells": [
  {
   "cell_type": "markdown",
   "metadata": {},
   "source": [
    "**author**: lukethompson@gmail.com, nbokulich@gmail.com<br>\n",
    "**date**: 28 Feb 2017<br>\n",
    "**language**: Python 3.5<br>\n",
    "**conda enviroment**: emp-py3<br>\n",
    "**license**: unlicensed<br>\n",
    "\n",
    "## sourcetracker_mapping_file_and_execution.ipynb"
   ]
  },
  {
   "cell_type": "code",
   "execution_count": 1,
   "metadata": {
    "collapsed": false
   },
   "outputs": [],
   "source": [
    "import pandas as pd"
   ]
  },
  {
   "cell_type": "code",
   "execution_count": 2,
   "metadata": {
    "collapsed": true
   },
   "outputs": [],
   "source": [
    "path_map = '~/emp/metadata-refine'\n",
    "path_out = '~/emp/analyses-sourcetracker'"
   ]
  },
  {
   "cell_type": "code",
   "execution_count": 3,
   "metadata": {
    "collapsed": false
   },
   "outputs": [],
   "source": [
    "df = pd.read_csv('%s/emp_qiime_mapping_qc_filtered.tsv' % path_map, sep='\\t', index_col=0, dtype='object')"
   ]
  },
  {
   "cell_type": "code",
   "execution_count": 6,
   "metadata": {
    "collapsed": false,
    "scrolled": true
   },
   "outputs": [],
   "source": [
    "df['env'] = df['empo_3']\n",
    "df['SourceSink'] = ['source' if x == 'True' else 'sink' for x in df['subset_2k']]"
   ]
  },
  {
   "cell_type": "code",
   "execution_count": 9,
   "metadata": {
    "collapsed": false
   },
   "outputs": [
    {
     "data": {
      "text/plain": [
       "sink      22910\n",
       "source     2000\n",
       "Name: SourceSink, dtype: int64"
      ]
     },
     "execution_count": 9,
     "metadata": {},
     "output_type": "execute_result"
    }
   ],
   "source": [
    "df['SourceSink'].value_counts()"
   ]
  },
  {
   "cell_type": "code",
   "execution_count": 10,
   "metadata": {
    "collapsed": true
   },
   "outputs": [],
   "source": [
    "df.to_csv('%s/ST2_emp_qiime_mapping_qc_filtered.tsv' % path_out, sep='\\t')"
   ]
  },
  {
   "cell_type": "markdown",
   "metadata": {
    "collapsed": true
   },
   "source": [
    "#### Run SourceTracker2 on the cluster\n",
    "\n",
    "```bash\n",
    "source activate qiime2\n",
    "project_dir=$HOME/emp/\n",
    "maps=$project_dir/maps/\n",
    "otus=$project_dir/otus/\n",
    "srun sourcetracker2 gibbs -i $otus/emp_deblur_100bp.qc_filtered.rare_5000.biom -m $maps/emp_qiime_mapping_qc_filtered_sourcetracker.tsv -o $project_dir/sourcetracker_rar100/ --source_category_column env --source_rarefaction_depth 100 --sink_rarefaction_depth 100 --jobs 8\n",
    "```"
   ]
  },
  {
   "cell_type": "code",
   "execution_count": null,
   "metadata": {
    "collapsed": true
   },
   "outputs": [],
   "source": []
  }
 ],
 "metadata": {
  "anaconda-cloud": {},
  "kernelspec": {
   "display_name": "Python [conda env:emp-py3]",
   "language": "python",
   "name": "conda-env-emp-py3-py"
  },
  "language_info": {
   "codemirror_mode": {
    "name": "ipython",
    "version": 3
   },
   "file_extension": ".py",
   "mimetype": "text/x-python",
   "name": "python",
   "nbconvert_exporter": "python",
   "pygments_lexer": "ipython3",
   "version": "3.5.2"
  }
 },
 "nbformat": 4,
 "nbformat_minor": 0
}
