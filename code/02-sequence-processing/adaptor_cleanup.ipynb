{
 "cells": [
  {
   "cell_type": "markdown",
   "metadata": {},
   "source": [
    "**author**: josenavasmolina@gmail.com<br>\n",
    "**date**: 25 Sep 2017<br>\n",
    "**license**: BSD3<br>\n",
    "\n",
    "## adaptor_cleanup.ipynb\n",
    "\n",
    "Commands to remove the sequences afected by the adaptor contamination."
   ]
  },
  {
   "cell_type": "code",
   "execution_count": null,
   "metadata": {},
   "outputs": [],
   "source": [
    "split_lib_basedir = '/path/to/split_libraries_dirs/'\n",
    "adaptor_cleanup_dir = '/path/to/output/cleanup_dir/'"
   ]
  },
  {
   "cell_type": "code",
   "execution_count": null,
   "metadata": {},
   "outputs": [],
   "source": [
    "%%bash\n",
    "for i in `ls $split_lib_basedir`\n",
    "do\n",
    "    mkdir -p $adaptor_cleanup_dir/$i\n",
    "    cat $split_lib_basedir/$i/seqs.fna | \\\n",
    "        egrep 'ATCTCGTATGCCGTCTTCTGC|GCAGAAGACGGCATACGAGAT|GTAGTCCGGCTGACTGACT|AGTCAGTCAGCCGGACTAC' \\\n",
    "            -B 1 --no-group-separator > $adaptor_cleanup_dir/$i/seqs_to_filter.fna\n",
    "    filter_fasta.py -f $split_lib_basedir/$i/seqs.fna \\\n",
    "                    -o $adaptor_cleanup_dir/$i/filtered_seqs.fna \\\n",
    "                    -a $adaptor_cleanup_dir/$i/seqs_to_filter.fna \\\n",
    "                    -n\n",
    "done"
   ]
  },
  {
   "cell_type": "code",
   "execution_count": null,
   "metadata": {},
   "outputs": [],
   "source": []
  }
 ],
 "metadata": {
  "kernelspec": {
   "display_name": "Python 2",
   "language": "python",
   "name": "python2"
  },
  "language_info": {
   "codemirror_mode": {
    "name": "ipython",
    "version": 2
   },
   "file_extension": ".py",
   "mimetype": "text/x-python",
   "name": "python",
   "nbconvert_exporter": "python",
   "pygments_lexer": "ipython2",
   "version": "2.7.10"
  }
 },
 "nbformat": 4,
 "nbformat_minor": 2
}
