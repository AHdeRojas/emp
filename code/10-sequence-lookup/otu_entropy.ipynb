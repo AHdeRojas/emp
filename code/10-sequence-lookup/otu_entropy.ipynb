{
 "cells": [
  {
   "cell_type": "markdown",
   "metadata": {},
   "source": [
    "**author**: lukethompson@gmail.com<br>\n",
    "**date**: 9 Oct 2017<br>\n",
    "**language**: Python 3.5<br>\n",
    "**license**: BSD3<br>\n",
    "\n",
    "## otu_entropy.ipynb\n",
    "\n",
    "For each sample type, find the lowest-entropy OTUs that have a minimum abundance of X and a minimum prevalence of X."
   ]
  },
  {
   "cell_type": "code",
   "execution_count": 1,
   "metadata": {
    "collapsed": true
   },
   "outputs": [],
   "source": [
    "import pandas as pd\n",
    "import numpy as np\n",
    "import matplotlib.pyplot as plt\n",
    "import seaborn as sns\n",
    "%matplotlib inline"
   ]
  },
  {
   "cell_type": "code",
   "execution_count": 2,
   "metadata": {
    "collapsed": true
   },
   "outputs": [],
   "source": [
    "path_otus = '../../data/sequence-lookup/otu_summary.emp_deblur_90bp.subset_2k.rare_5000.tsv' # gunzip first\n",
    "df_otus = pd.read_csv(path_otus, sep='\\t', index_col=0)"
   ]
  },
  {
   "cell_type": "code",
   "execution_count": 3,
   "metadata": {
    "collapsed": true
   },
   "outputs": [],
   "source": [
    "path_entropy = '../../data/entropy/otu_entropy_empo.csv' # output of 09-specificity-entropy/entropy_environment_by_taxon.ipynb\n",
    "df_otu_entropy = pd.read_csv(path_entropy, index_col=0)"
   ]
  },
  {
   "cell_type": "code",
   "execution_count": 4,
   "metadata": {
    "collapsed": false
   },
   "outputs": [],
   "source": [
    "empo3 = df_otu_entropy.columns[1:]"
   ]
  },
  {
   "cell_type": "code",
   "execution_count": 5,
   "metadata": {
    "collapsed": true
   },
   "outputs": [],
   "source": [
    "df_merged = pd.merge(df_otus, df_otu_entropy, left_on='sequence', right_index=True)"
   ]
  },
  {
   "cell_type": "code",
   "execution_count": 6,
   "metadata": {
    "collapsed": false
   },
   "outputs": [
    {
     "name": "stdout",
     "output_type": "stream",
     "text": [
      "Animal surface \t (6, 30)\n",
      "Animal corpus \t (18, 30)\n",
      "Animal secretion \t (1, 30)\n",
      "Animal proximal gut \t (51, 30)\n",
      "Animal distal gut \t (6, 30)\n",
      "Plant surface \t (22, 30)\n",
      "Plant corpus \t (0, 30)\n",
      "Plant rhizosphere \t (19, 30)\n",
      "Soil (non-saline) \t (1, 30)\n",
      "Sediment (non-saline) \t (18, 30)\n",
      "Sediment (saline) \t (16, 30)\n",
      "Surface (non-saline) \t (27, 30)\n",
      "Surface (saline) \t (22, 30)\n",
      "Aerosol (non-saline) \t (7, 30)\n",
      "Water (non-saline) \t (7, 30)\n",
      "Water (saline) \t (13, 30)\n",
      "Intertidal (saline) \t (0, 30)\n",
      "Hypersaline (saline) \t (0, 30)\n",
      "Sterile water blank \t (0, 30)\n",
      "Mock community \t (0, 30)\n"
     ]
    }
   ],
   "source": [
    "# OTUs by empo_3 with rel abund empo_3 >= 25%, entropy < 1, and total obs >= 1000 (15 have at least one)\n",
    "for empo in empo3:\n",
    "    print(empo, '\\t',\n",
    "          df_merged[(df_merged[empo] >= 0.25) & \n",
    "                    (df_merged['entropy'] < 1) &\n",
    "                    (df_merged['total_obs'] >= 1000)].shape)"
   ]
  },
  {
   "cell_type": "code",
   "execution_count": 7,
   "metadata": {
    "collapsed": false
   },
   "outputs": [
    {
     "name": "stderr",
     "output_type": "stream",
     "text": [
      "/Users/luke.thompson/.local/lib/python3.5/site-packages/ipykernel/__main__.py:9: SettingWithCopyWarning: \n",
      "A value is trying to be set on a copy of a slice from a DataFrame\n",
      "\n",
      "See the caveats in the documentation: http://pandas.pydata.org/pandas-docs/stable/indexing.html#indexing-view-versus-copy\n"
     ]
    }
   ],
   "source": [
    "# now get the most abundant OTU that meets those criteria above\n",
    "df_top_entropy = pd.DataFrame()\n",
    "list_empo = []\n",
    "for empo in empo3:\n",
    "    df_empo = pd.DataFrame()\n",
    "    df_empo = df_merged[(df_merged[empo] >= 0.25) & \n",
    "                        (df_merged['entropy'] < 1) &\n",
    "                        (df_merged['total_obs'] >= 1000)]\n",
    "    df_empo.sort_values('total_obs', ascending=False, inplace=True)\n",
    "    if df_empo.shape[0] > 0:\n",
    "        df_top_entropy = df_top_entropy.append(df_empo.iloc[0,:])\n",
    "        list_empo.append(empo)\n",
    "df_top_entropy.index = list_empo"
   ]
  },
  {
   "cell_type": "code",
   "execution_count": 8,
   "metadata": {
    "collapsed": false,
    "scrolled": true
   },
   "outputs": [],
   "source": [
    "# write out the \"most abundant, sample type-specific (>=25%), low-entropy OTU (<1)\" for each sample type\n",
    "df_top_entropy.to_csv('../../data/sequence-lookup/top_specialized_otu_per_empo.csv')"
   ]
  },
  {
   "cell_type": "code",
   "execution_count": null,
   "metadata": {
    "collapsed": true
   },
   "outputs": [],
   "source": []
  }
 ],
 "metadata": {
  "anaconda-cloud": {},
  "kernelspec": {
   "display_name": "Python [conda env:emp-py3]",
   "language": "python",
   "name": "conda-env-emp-py3-py"
  },
  "language_info": {
   "codemirror_mode": {
    "name": "ipython",
    "version": 3
   },
   "file_extension": ".py",
   "mimetype": "text/x-python",
   "name": "python",
   "nbconvert_exporter": "python",
   "pygments_lexer": "ipython3",
   "version": "3.5.2"
  }
 },
 "nbformat": 4,
 "nbformat_minor": 1
}
