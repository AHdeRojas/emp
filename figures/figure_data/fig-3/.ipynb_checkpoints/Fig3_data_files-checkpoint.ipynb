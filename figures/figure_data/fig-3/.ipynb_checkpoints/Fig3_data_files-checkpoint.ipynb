{
 "cells": [
  {
   "cell_type": "code",
   "execution_count": 9,
   "metadata": {
    "collapsed": true
   },
   "outputs": [],
   "source": [
    "%matplotlib inline\n",
    "import pandas as pd"
   ]
  },
  {
   "cell_type": "markdown",
   "metadata": {},
   "source": [
    "# Figure 3 csv data generation\n",
    "\n",
    "Figure data consolidation for Figure 3, which shows patterns of nestedness in beta diversity"
   ]
  },
  {
   "cell_type": "markdown",
   "metadata": {},
   "source": [
    "## Figure 3a: phyla occupancy plot, all samples"
   ]
  },
  {
   "cell_type": "code",
   "execution_count": 3,
   "metadata": {
    "collapsed": false
   },
   "outputs": [
    {
     "data": {
      "text/html": [
       "<div>\n",
       "<style>\n",
       "    .dataframe thead tr:only-child th {\n",
       "        text-align: right;\n",
       "    }\n",
       "\n",
       "    .dataframe thead th {\n",
       "        text-align: left;\n",
       "    }\n",
       "\n",
       "    .dataframe tbody tr th {\n",
       "        vertical-align: top;\n",
       "    }\n",
       "</style>\n",
       "<table border=\"1\" class=\"dataframe\">\n",
       "  <thead>\n",
       "    <tr style=\"text-align: right;\">\n",
       "      <th></th>\n",
       "      <th>SAMPLE_RANK</th>\n",
       "      <th>OBSERVATION_RANK</th>\n",
       "      <th>SAMPLE_ID</th>\n",
       "      <th>OBSERVATION_ID</th>\n",
       "      <th>empo_3</th>\n",
       "      <th>METADATA_NUMERIC_CODE</th>\n",
       "    </tr>\n",
       "  </thead>\n",
       "  <tbody>\n",
       "    <tr>\n",
       "      <th>0</th>\n",
       "      <td>1171</td>\n",
       "      <td>68</td>\n",
       "      <td>1747.DZF.6252012.A.log</td>\n",
       "      <td>k__Bacteria;p__Fusobacteria</td>\n",
       "      <td>Plant corpus</td>\n",
       "      <td>1</td>\n",
       "    </tr>\n",
       "    <tr>\n",
       "      <th>1</th>\n",
       "      <td>1171</td>\n",
       "      <td>82</td>\n",
       "      <td>1747.DZF.6252012.A.log</td>\n",
       "      <td>k__Bacteria;p__Cyanobacteria</td>\n",
       "      <td>Plant corpus</td>\n",
       "      <td>1</td>\n",
       "    </tr>\n",
       "    <tr>\n",
       "      <th>2</th>\n",
       "      <td>1171</td>\n",
       "      <td>71</td>\n",
       "      <td>1747.DZF.6252012.A.log</td>\n",
       "      <td>k__Bacteria;p__Armatimonadetes</td>\n",
       "      <td>Plant corpus</td>\n",
       "      <td>1</td>\n",
       "    </tr>\n",
       "    <tr>\n",
       "      <th>3</th>\n",
       "      <td>1171</td>\n",
       "      <td>78</td>\n",
       "      <td>1747.DZF.6252012.A.log</td>\n",
       "      <td>k__Bacteria;p__Planctomycetes</td>\n",
       "      <td>Plant corpus</td>\n",
       "      <td>1</td>\n",
       "    </tr>\n",
       "    <tr>\n",
       "      <th>4</th>\n",
       "      <td>1171</td>\n",
       "      <td>81</td>\n",
       "      <td>1747.DZF.6252012.A.log</td>\n",
       "      <td>k__Bacteria;p__Firmicutes</td>\n",
       "      <td>Plant corpus</td>\n",
       "      <td>1</td>\n",
       "    </tr>\n",
       "  </tbody>\n",
       "</table>\n",
       "</div>"
      ],
      "text/plain": [
       "   SAMPLE_RANK  OBSERVATION_RANK               SAMPLE_ID  \\\n",
       "0         1171                68  1747.DZF.6252012.A.log   \n",
       "1         1171                82  1747.DZF.6252012.A.log   \n",
       "2         1171                71  1747.DZF.6252012.A.log   \n",
       "3         1171                78  1747.DZF.6252012.A.log   \n",
       "4         1171                81  1747.DZF.6252012.A.log   \n",
       "\n",
       "                   OBSERVATION_ID        empo_3  METADATA_NUMERIC_CODE  \n",
       "0     k__Bacteria;p__Fusobacteria  Plant corpus                      1  \n",
       "1    k__Bacteria;p__Cyanobacteria  Plant corpus                      1  \n",
       "2  k__Bacteria;p__Armatimonadetes  Plant corpus                      1  \n",
       "3   k__Bacteria;p__Planctomycetes  Plant corpus                      1  \n",
       "4       k__Bacteria;p__Firmicutes  Plant corpus                      1  "
      ]
     },
     "execution_count": 3,
     "metadata": {},
     "output_type": "execute_result"
    }
   ],
   "source": [
    "# read in nestedness output for all samples\n",
    "\n",
    "fig3a = pd.read_csv('../../../data/nestedness/nest_phylum_allsamples.csv')\n",
    "\n",
    "fig3a.head()"
   ]
  },
  {
   "cell_type": "markdown",
   "metadata": {},
   "source": [
    "## Fig 3b: phyla occupancy plot, individual Empo_2 categories"
   ]
  },
  {
   "cell_type": "code",
   "execution_count": 4,
   "metadata": {
    "collapsed": true
   },
   "outputs": [],
   "source": [
    "fig3b_animal = pd.read_csv('../../../data/nestedness/nest_phylum_Animal.csv')\n",
    "fig3b_plant = pd.read_csv('../../../data/nestedness/nest_phylum_Plant.csv')\n",
    "fig3b_saline = pd.read_csv('../../../data/nestedness/nest_phylum_Saline.csv')\n",
    "fig3b_nonsaline = pd.read_csv('../../../data/nestedness/nest_phylum_Non-saline.csv')"
   ]
  },
  {
   "cell_type": "markdown",
   "metadata": {},
   "source": [
    "## Fig 3c: NODF model results"
   ]
  },
  {
   "cell_type": "code",
   "execution_count": 37,
   "metadata": {
    "collapsed": false,
    "scrolled": true
   },
   "outputs": [
    {
     "data": {
      "text/html": [
       "<div>\n",
       "<style>\n",
       "    .dataframe thead tr:only-child th {\n",
       "        text-align: right;\n",
       "    }\n",
       "\n",
       "    .dataframe thead th {\n",
       "        text-align: left;\n",
       "    }\n",
       "\n",
       "    .dataframe tbody tr th {\n",
       "        vertical-align: top;\n",
       "    }\n",
       "</style>\n",
       "<table border=\"1\" class=\"dataframe\">\n",
       "  <thead>\n",
       "    <tr style=\"text-align: right;\">\n",
       "      <th></th>\n",
       "      <th>EMPO_SUBSET</th>\n",
       "      <th>TAXONOMIC_LEVEL</th>\n",
       "      <th>NODF_NULL_MEAN</th>\n",
       "      <th>NODF_NULL_STDEV</th>\n",
       "      <th>NODF_OBSERVED</th>\n",
       "    </tr>\n",
       "  </thead>\n",
       "  <tbody>\n",
       "    <tr>\n",
       "      <th>0</th>\n",
       "      <td>All</td>\n",
       "      <td>class</td>\n",
       "      <td>0.254916</td>\n",
       "      <td>0.006882</td>\n",
       "      <td>0.732128</td>\n",
       "    </tr>\n",
       "    <tr>\n",
       "      <th>1</th>\n",
       "      <td>All</td>\n",
       "      <td>family</td>\n",
       "      <td>0.187935</td>\n",
       "      <td>0.005303</td>\n",
       "      <td>0.434909</td>\n",
       "    </tr>\n",
       "    <tr>\n",
       "      <th>2</th>\n",
       "      <td>All</td>\n",
       "      <td>genus</td>\n",
       "      <td>0.072319</td>\n",
       "      <td>0.004046</td>\n",
       "      <td>0.256224</td>\n",
       "    </tr>\n",
       "    <tr>\n",
       "      <th>3</th>\n",
       "      <td>All</td>\n",
       "      <td>order</td>\n",
       "      <td>0.225096</td>\n",
       "      <td>0.005760</td>\n",
       "      <td>0.582832</td>\n",
       "    </tr>\n",
       "    <tr>\n",
       "      <th>4</th>\n",
       "      <td>All</td>\n",
       "      <td>otu</td>\n",
       "      <td>0.010253</td>\n",
       "      <td>0.000911</td>\n",
       "      <td>0.039439</td>\n",
       "    </tr>\n",
       "  </tbody>\n",
       "</table>\n",
       "</div>"
      ],
      "text/plain": [
       "  EMPO_SUBSET TAXONOMIC_LEVEL  NODF_NULL_MEAN  NODF_NULL_STDEV  NODF_OBSERVED\n",
       "0         All           class        0.254916         0.006882       0.732128\n",
       "1         All          family        0.187935         0.005303       0.434909\n",
       "2         All           genus        0.072319         0.004046       0.256224\n",
       "3         All           order        0.225096         0.005760       0.582832\n",
       "4         All             otu        0.010253         0.000911       0.039439"
      ]
     },
     "execution_count": 37,
     "metadata": {},
     "output_type": "execute_result"
    }
   ],
   "source": [
    "fig3c = pd.read_csv('../../../data/nestedness/nestedness_null_model_results_2017-09-19.csv')\n",
    "\n",
    "fig3c.head()"
   ]
  },
  {
   "cell_type": "markdown",
   "metadata": {},
   "source": [
    "# Write to Excel notebook"
   ]
  },
  {
   "cell_type": "code",
   "execution_count": 40,
   "metadata": {
    "collapsed": false
   },
   "outputs": [],
   "source": [
    "fig3 = pd.ExcelWriter('Figure3_data.xlsx')\n",
    "\n",
    "fig3a.to_excel(fig3,'Fig-3a')\n",
    "fig3b_animal.to_excel(fig3,'Fig-3b_animal')\n",
    "fig3b_plant.to_excel(fig3,'Fig-3b_plant')\n",
    "fig3b_saline.to_excel(fig3,'Fig-3b_saline')\n",
    "fig3b_nonsaline.to_excel(fig3,'Fig-3b_nonsaline')\n",
    "fig3c.to_excel(fig3,'Fig-3c')\n",
    "\n",
    "fig3.save()"
   ]
  },
  {
   "cell_type": "code",
   "execution_count": null,
   "metadata": {
    "collapsed": true
   },
   "outputs": [],
   "source": []
  }
 ],
 "metadata": {
  "kernelspec": {
   "display_name": "Python 3",
   "language": "python",
   "name": "python3"
  },
  "language_info": {
   "codemirror_mode": {
    "name": "ipython",
    "version": 3
   },
   "file_extension": ".py",
   "mimetype": "text/x-python",
   "name": "python",
   "nbconvert_exporter": "python",
   "pygments_lexer": "ipython3",
   "version": "3.5.2"
  }
 },
 "nbformat": 4,
 "nbformat_minor": 0
}
